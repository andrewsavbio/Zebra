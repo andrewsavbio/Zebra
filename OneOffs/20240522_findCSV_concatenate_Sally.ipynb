{
 "cells": [
  {
   "cell_type": "code",
   "execution_count": null,
   "metadata": {},
   "outputs": [],
   "source": [
    "import glob\n",
    "import pandas as pd"
   ]
  },
  {
   "cell_type": "code",
   "execution_count": null,
   "metadata": {},
   "outputs": [],
   "source": [
    "filePattern=\"Well*\"\n",
    "extPattern=\".csv\"\n",
    "inputDir=\"/home/workstation_v1/NAS2/Processed/K2/\"\n",
    "outputDir=\"\""
   ]
  },
  {
   "cell_type": "code",
   "execution_count": null,
   "metadata": {},
   "outputs": [],
   "source": [
    "for file in glob.glob(inputDir+'**/'+filePattern+extPattern, recursive=True):\n",
    "    current=pd.read_csv(file).iloc[-1:-3]"
   ]
  }
 ],
 "metadata": {
  "language_info": {
   "name": "python"
  }
 },
 "nbformat": 4,
 "nbformat_minor": 2
}
