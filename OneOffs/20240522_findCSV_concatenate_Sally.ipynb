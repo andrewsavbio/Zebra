{
 "cells": [
  {
   "cell_type": "markdown",
   "metadata": {},
   "source": [
    "### Import libraries"
   ]
  },
  {
   "cell_type": "code",
   "execution_count": 1,
   "metadata": {},
   "outputs": [],
   "source": [
    "import glob\n",
    "import pandas as pd"
   ]
  },
  {
   "cell_type": "markdown",
   "metadata": {},
   "source": [
    "### Define Inputs\n",
    "Code will find desired csv files and concatenate the last l lines of each file into a table that will be saved as output. Need to define the file pattern to be matched, input folder (will automatically look recursively inside subfolders), the number of lines desired to be copied from the end of the file, and the output directory."
   ]
  },
  {
   "cell_type": "code",
   "execution_count": 2,
   "metadata": {},
   "outputs": [],
   "source": [
    "#filename pattern to match\n",
    "filePattern='Well*'\n",
    "\n",
    "#number of lines from the end of the csv files to extract\n",
    "l=3\n",
    "\n",
    "#input and output directories\n",
    "#inputDir=\"/home/workstation_v1/NAS2/Processed/K2/\"\n",
    "inputDir='/Volumes/ng-processeddata/K2/'\n",
    "outputDir='/Users/andrewphan/Downloads/'"
   ]
  },
  {
   "cell_type": "markdown",
   "metadata": {},
   "source": [
    "### Find the files\n",
    "Recursively look through designated folder and subfolders for csv files that match the given pattern. Once found, extract the last l lines of the csv file and append to a table. Once all of the files are merged, save the output."
   ]
  },
  {
   "cell_type": "code",
   "execution_count": 3,
   "metadata": {},
   "outputs": [],
   "source": [
    "merged=[]\n",
    "\n",
    "for file in glob.glob(inputDir+'**/'+filePattern+'.csv', recursive=True):\n",
    "    current=pd.read_csv(file, index_col=0).iloc[-3:]\n",
    "    merged.append(current)\n",
    "\n",
    "merged=pd.concat(merged)\n",
    "\n",
    "merged.to_csv(outputDir+'20240522_merged_K2.csv')"
   ]
  }
 ],
 "metadata": {
  "kernelspec": {
   "display_name": "Python 3 (ipykernel)",
   "language": "python",
   "name": "python3"
  },
  "language_info": {
   "codemirror_mode": {
    "name": "ipython",
    "version": 3
   },
   "file_extension": ".py",
   "mimetype": "text/x-python",
   "name": "python",
   "nbconvert_exporter": "python",
   "pygments_lexer": "ipython3",
   "version": "3.12.3"
  }
 },
 "nbformat": 4,
 "nbformat_minor": 4
}
