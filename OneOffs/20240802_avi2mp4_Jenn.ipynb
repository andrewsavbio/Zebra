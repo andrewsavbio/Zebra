{
 "cells": [
  {
   "cell_type": "markdown",
   "metadata": {},
   "source": [
    "### Import libraries"
   ]
  },
  {
   "cell_type": "code",
   "execution_count": 5,
   "metadata": {},
   "outputs": [],
   "source": [
    "import glob\n",
    "import os\n",
    "import time\n",
    "import moviepy.editor as moviepy"
   ]
  },
  {
   "cell_type": "markdown",
   "metadata": {},
   "source": [
    "### Define Inputs\n",
    "Code will find desired .avi files and convert them into .mp4 files. Need to define input folder (will automatically look recursively inside subfolders) and the output directory."
   ]
  },
  {
   "cell_type": "code",
   "execution_count": 3,
   "metadata": {},
   "outputs": [],
   "source": [
    "#input and output directories\n",
    "#inputDir=\"/home/workstation_v1/NAS2/Processed/K2/\"\n",
    "#inputDir='/Volumes/ng-rawdata/CellCyte/EXP24000281/'\n",
    "inputDir='/Users/andrewphan/Downloads/EXP24000281/'\n",
    "outputDir='/Users/andrewphan/Downloads/'"
   ]
  },
  {
   "cell_type": "markdown",
   "metadata": {},
   "source": [
    "### Find the matching files\n",
    "Recursively look through designated folder and subfolders for .avi files that match the given pattern. Once found, convert it into a .mp4 and rename based on folder structure (experiment number, well, and position within well)."
   ]
  },
  {
   "cell_type": "code",
   "execution_count": 8,
   "metadata": {},
   "outputs": [
    {
     "name": "stdout",
     "output_type": "stream",
     "text": [
      "Moviepy - Building video /Users/andrewphan/Downloads/EXP24000281_1_B3.mp4.\n",
      "Moviepy - Writing video /Users/andrewphan/Downloads/EXP24000281_1_B3.mp4\n",
      "\n"
     ]
    },
    {
     "name": "stderr",
     "output_type": "stream",
     "text": [
      "                                                            \r"
     ]
    },
    {
     "name": "stdout",
     "output_type": "stream",
     "text": [
      "Moviepy - Done !\n",
      "Moviepy - video ready /Users/andrewphan/Downloads/EXP24000281_1_B3.mp4\n",
      "Moviepy - Building video /Users/andrewphan/Downloads/EXP24000281_4_B3.mp4.\n",
      "Moviepy - Writing video /Users/andrewphan/Downloads/EXP24000281_4_B3.mp4\n",
      "\n"
     ]
    },
    {
     "name": "stderr",
     "output_type": "stream",
     "text": [
      "                                                            \r"
     ]
    },
    {
     "name": "stdout",
     "output_type": "stream",
     "text": [
      "Moviepy - Done !\n",
      "Moviepy - video ready /Users/andrewphan/Downloads/EXP24000281_4_B3.mp4\n",
      "Moviepy - Building video /Users/andrewphan/Downloads/EXP24000281_3_B3.mp4.\n",
      "Moviepy - Writing video /Users/andrewphan/Downloads/EXP24000281_3_B3.mp4\n",
      "\n"
     ]
    },
    {
     "name": "stderr",
     "output_type": "stream",
     "text": [
      "                                                            \r"
     ]
    },
    {
     "name": "stdout",
     "output_type": "stream",
     "text": [
      "Moviepy - Done !\n",
      "Moviepy - video ready /Users/andrewphan/Downloads/EXP24000281_3_B3.mp4\n",
      "Moviepy - Building video /Users/andrewphan/Downloads/EXP24000281_2_B3.mp4.\n",
      "Moviepy - Writing video /Users/andrewphan/Downloads/EXP24000281_2_B3.mp4\n",
      "\n"
     ]
    },
    {
     "name": "stderr",
     "output_type": "stream",
     "text": [
      "                                                            \r"
     ]
    },
    {
     "name": "stdout",
     "output_type": "stream",
     "text": [
      "Moviepy - Done !\n",
      "Moviepy - video ready /Users/andrewphan/Downloads/EXP24000281_2_B3.mp4\n"
     ]
    }
   ],
   "source": [
    "#filename pattern to match\n",
    "filePattern='*.avi'\n",
    "\n",
    "#recursively go through the folder and subfolders to find matching files and extract/save last 3 lines into pandas dataframe\n",
    "for file in glob.glob(inputDir+'**/'+filePattern, recursive=True):\n",
    "    path=file.split(\"/\")\n",
    "    exp = \"\".join([i for i in path if i.startswith('EXP2')]) #convert the element of the list into a string\n",
    "    well = path[-2]\n",
    "    pos = path[-3]\n",
    "\n",
    "    if not exp:\n",
    "        print(\"No experiment ID for file in path: \"+file)\n",
    "    else:\n",
    "        outPath = outputDir + exp + '_' + well + '_' + pos + '.mp4'\n",
    "        clip = moviepy.VideoFileClip(file)\n",
    "        clip.write_videofile(outPath)"
   ]
  }
 ],
 "metadata": {
  "kernelspec": {
   "display_name": "Python 3 (ipykernel)",
   "language": "python",
   "name": "python3"
  },
  "language_info": {
   "codemirror_mode": {
    "name": "ipython",
    "version": 3
   },
   "file_extension": ".py",
   "mimetype": "text/x-python",
   "name": "python",
   "nbconvert_exporter": "python",
   "pygments_lexer": "ipython3",
   "version": "3.12.3"
  }
 },
 "nbformat": 4,
 "nbformat_minor": 4
}
